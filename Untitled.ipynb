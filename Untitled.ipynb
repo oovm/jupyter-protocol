{
 "cells": [
  {
   "cell_type": "code",
   "execution_count": null,
   "id": "f8023286-a1cf-4d05-a310-ba9044835d5c",
   "metadata": {},
   "outputs": [],
   "source": [
    "1+1"
   ]
  },
  {
   "cell_type": "code",
   "execution_count": null,
   "id": "23d3017f-196c-4fca-8d4d-fd8f2d17dcbe",
   "metadata": {},
   "outputs": [],
   "source": [
    "2+2"
   ]
  },
  {
   "cell_type": "code",
   "execution_count": null,
   "id": "cdc6567f-9770-4930-99c0-349e4c02ab95",
   "metadata": {},
   "outputs": [],
   "source": [
    "?s"
   ]
  },
  {
   "cell_type": "code",
   "execution_count": null,
   "id": "6eb5b12d-2b37-4237-8605-9db514220f72",
   "metadata": {},
   "outputs": [],
   "source": [
    "pub struct A {}"
   ]
  },
  {
   "cell_type": "code",
   "execution_count": null,
   "id": "443fcd91-d980-44b3-a709-de74ba43a52c",
   "metadata": {},
   "outputs": [],
   "source": [
    "%2"
   ]
  },
  {
   "cell_type": "code",
   "execution_count": null,
   "id": "7d9b15bb-33ab-4238-ad4b-17b429321733",
   "metadata": {},
   "outputs": [],
   "source": []
  },
  {
   "cell_type": "code",
   "execution_count": null,
   "id": "14480644-b55c-49f8-8f4a-26ae0d146699",
   "metadata": {},
   "outputs": [],
   "source": []
  },
  {
   "cell_type": "markdown",
   "id": "9f536a83-13d5-4767-874a-ea284c001ce4",
   "metadata": {},
   "source": [
    "# 2"
   ]
  },
  {
   "cell_type": "raw",
   "id": "ae7a1398-7523-46da-aa19-d5fd9120cdef",
   "metadata": {},
   "source": [
    "22"
   ]
  },
  {
   "cell_type": "code",
   "execution_count": null,
   "id": "2a5c26c2-56d1-425c-9d73-bbc88837a175",
   "metadata": {},
   "outputs": [],
   "source": []
  }
 ],
 "metadata": {
  "kernelspec": {
   "display_name": "Rust",
   "language": "rust",
   "name": "rust"
  },
  "language_info": {
   "codemirror_mode": "rust",
   "file_extension": ".rs",
   "mimetype": "text/rust",
   "name": "Rust",
   "nbconvert_exporter": "rust",
   "pygment_lexer": "rust",
   "version": ""
  }
 },
 "nbformat": 4,
 "nbformat_minor": 5
}
