{
 "cells": [
  {
   "cell_type": "code",
   "execution_count": 1,
   "id": "57091d46",
   "metadata": {
    "collapsed": false,
    "jupyter": {
     "outputs_hidden": false
    },
    "vscode": {
     "languageId": "python"
    }
   },
   "outputs": [
    {
     "data": {
      "text/plain": [
       "true"
      ]
     },
     "execution_count": 1,
     "metadata": {},
     "output_type": "execute_result"
    },
    {
     "data": {
      "text/plain": [
       "0"
      ]
     },
     "execution_count": 1,
     "metadata": {},
     "output_type": "execute_result"
    },
    {
     "data": {
      "text/plain": [
       "-3.141592653589793"
      ]
     },
     "execution_count": 1,
     "metadata": {},
     "output_type": "execute_result"
    },
    {
     "data": {
      "text/plain": [
       "c"
      ]
     },
     "execution_count": 1,
     "metadata": {},
     "output_type": "execute_result"
    },
    {
     "data": {
      "text/plain": [
       "string"
      ]
     },
     "execution_count": 1,
     "metadata": {},
     "output_type": "execute_result"
    },
    {
     "data": {
      "application/json": {
       "dependencies": {
        "base64": "0.21.3",
        "clap": "4.4.2",
        "clap_derive": "4.4.2",
        "image": "0.24.7",
        "jupyter": {
         "features": [
          "url",
          "image",
          "mathml-core",
          "svg",
          "ndarray"
         ],
         "path": "../jupyter",
         "version": "*"
        },
        "jupyter-derive": {
         "path": "../jupyter-derive",
         "version": "*"
        },
        "mathml-core": "0.1.6",
        "mathml-latex": "0.0.3",
        "num": "0.4.1",
        "svg": "0.13.1",
        "toml": "0.7.7",
        "tracing-subscriber": "0.3.17"
       },
       "package": {
        "authors": [
         "Aster <192607617@qq.com>"
        ],
        "description": "Jupyter Kernel Protocol in Rust",
        "edition": "2021",
        "exclude": [],
        "license": "MIT OR Apache-2.0",
        "name": "calculator",
        "publish": false,
        "readme": "README.md",
        "repository": "https://github.com/oovm/jupyter-protocol",
        "version": "0.0.0"
       }
      }
     },
     "execution_count": 1,
     "metadata": {},
     "output_type": "execute_result"
    },
    {
     "data": {
      "text/html": [
       "<a href=\"https://github.com/oovm/jupyter-protocol\">https://github.com/oovm/jupyter-protocol</a>"
      ]
     },
     "execution_count": 1,
     "metadata": {},
     "output_type": "execute_result"
    },
    {
     "data": {
      "text/html": [
       "<math xmlns=\"http://www.w3.org/1998/Math/MathML\"><mrow><mi>a</mi><mo>+</mo><mstyle displaystyle=\"true\"><mfrac><mn>1</mn><mrow><mi>b</mi><mo>+</mo><mstyle displaystyle=\"true\"><mfrac><mn>1</mn><mrow><mi>c</mi><mo>+</mo><mstyle displaystyle=\"true\"><mfrac><mn>1</mn><mrow><mi>d</mi><mo>+</mo><mstyle displaystyle=\"true\"><mfrac><mn>1</mn><mi>e</mi></mfrac></mstyle></mrow></mfrac></mstyle></mrow></mfrac></mstyle></mrow></mfrac></mstyle></mrow></math>"
      ]
     },
     "execution_count": 1,
     "metadata": {},
     "output_type": "execute_result"
    },
    {
     "data": {
      "text/html": [
       "<img src=\"data:image/png;base64,iVBORw0KGgoAAAANSUhEUgAAACAAAAAgCAYAAABzenr0AAAIZElEQVR4Ae3gAZAkSZIkSRKLqpm7R0REZmZmVlVVVVV3d3d3d/fMzMzMzMzMzMzMzMzMzMzMzMzMzMzMzMzMzMzMzMzMzMzMzMzMzMzMzMzMzMzMzMzMzMzMzMzMzMzMzMzMzMzMzMzMzMzMzMzMzMzMzMzMzMzMzMzMdHd3d3dXV1VVVVVmZkZGRIS7m5kKz0xmV3d1d3dPz8zMzMxMYuVf6dvf9WVfTdIJ4OcV+mqXDuCjs8SbYy4Cf8CLjvpt7/tq/IsyXzOm6aNzGt9rWA/fOU35yKOj8QtrFx+VaYYpD+fHtj41Sjwp7Zff2lp8dyh+APhJXjiqES+I8Gth/+V6b/+1VsvhbcYxX7/0/fYwJcf68qkXVo1Jhe3NjU9djkKTHzmM7c79o73tvit/tbEx+7XZfPaywO/w/KFvfN/X4AWJowNfvHi4H+nzZTF/8NCSo2ZQkAjBxyVyg68MwMBG31OKGMZpfz0MHNvqtwHx/FF3Lx3wQNfMtN2ifMjZe3d/o6XZmnXbK7G9OxoopMDw22m9ttEJw6MBhH8b9Np76wmcbM7q9ontTS4cLKn45ba3+tebL+bfBOzzbNTFxoIHOhqHl967uPclzWKj77mwHGizOY24y/AlNt8F7DfiXRN+gCveDfSDgm3gLVH50r3BN+wPI6e3NthfDn++d7BmWo9/BPwez4Y+7y1egvsdn+vF7r24vIjjzu2+cmE9kbUno3yt4dOBfR5gIF7DXPZ7PIBgG/h84CPt5NrtBQfLNTkMj+q7qMDjuIK6bALgQdduvfju2Qt/t044Pes4txxpswUp3hL4OZ6PSv4ez98+8FED5U9Q+YG791dcv9mxtxqe2JYDGzuzlwD+HqDOOgFwz4XDv98/8l0n5vMb7ltNtMUmaUj42UQYMMIGAwhAPB93AT8JfCrwgwWD4gfO7q+4bl44u8y71vvj33MFcXF/5PhG91rL/aPvU8T2akyaCpNhQjREWqRFApYwwhY22GCDDTbY3GDz4TZPsLlhsn4wre9Zx4yhmRKxtTa/2BW9ZldEdEXs7x6+8trx7ttdt31pMJkmDYlIi5SwhC3SYMCAgZRIiZRICQMGDDcYvsNASj+P4GwWdvqyY/QmQ+NVhgb6qNd9MS5T3nmslhsuDv6JRA9vXf9SqfgtpJe32TZXGGFxu9BticKQRg8BbgAQIIwwwgCSfafggtqYx7p4yYP1cBdwI0Bcd6y+ZcnxzlmtN+yNDYmPTun7UwLpg23+yoAlUkFTYaJ+00h59Ua8ahKvbnTjqPLFkyqjCiOFkcJEwejlLN1g+AjSH3UwTHRduaHYd25ke8t6uBqeOBHbfYi1Beh2S2DdZTgwlFSQBA2RBCk9LIlXMKqAQQ8Bv7kAMBIIE86vAd0N3g/lb9HV/VyPLPrgCLY7eGI9XPJERXzu2PLLhEi4M0t9f5y/LMNU+khEo9AkTJDo/YzezwCIK8T9hBH+pab46JHLdhZev5uG9k0FkyoAn7tUPLHONruvOzyaPnxWC8txBJVbo02/zDO1MqcpaAQmSIQRiUBgBIABAWBkgfhoHmBfGz+w1fmDWhtfYwNj9GVVPCg0TL9os582EyJBCSSQwKRCo5AEjaARNAUp0QgaohEkQUMkQZNI9OeJthORiM7tcybVB08pGoXJ7DviT+KS6y9Z+qjDMWkEtk/Yxja2ScJJ0AgaIiUSfYqRABntJPxAAolIRBIk2jZ6KyOKczvtz/SwvtkSQ4NJ9aMOW3x/PTaPtzxc+js3+8JwuKZF95ipzl5urLO+UYZEOw2REokwgeHhRq9gmAF/A7w78JbAtgEBBgQfLHh8Kj4Sm1QBGZWCYvrOXpzTJ775S2+vBn8TmW8B3jlqwVgXjLWnUWgEiWgSJkjACAAQhi8EPg34Q+BVAASAEUZAYEJQ1kfMlFR5z9P0s5s1vzj2h9gHfUhOqY2+EDKZjaSQCCNSwgQJGAHCCHPZyBW/xjMZAGGEgUR4GsnW6Pue1WTN+/jQFvUfokVlRvvMsLcnQ8iEE9qIESkwwgAIEOY5BFd8Cw9gAIQRBqyA2pGGBdN2mM8MQw0DXf1c1u3XD4f84o2+e+nDFTiNC39utGdkQzHMzHPogL/kiruANwM+B9gH0hBC26CXzynZnlUOVuvbj4U+IPEfAkRiLk11v9+e/SHphzXDokK2xFYYPdEwB/2q4FUDv2rgVw38qoFfIfBPByYwgX8x8CsAfwHMgN8HFaY182iIZDPa8Sjxh4n2ExGJSMRiY/bQflafdLiafnd73oFAbf2yNdtbkZ4MX2jAgAEDBgwYMGAg0Tbw8cBJzEczrl6G1jjZgZf7/1AintSFHtqF6ELoQ97klXigWB3dsKS7sywWjOs1Kb/OhXoCW79FKa8A/DkvhO2XA/4c6Uatj96w4O+6fjM4PDikzmY3AnfxbNQllQc6s7N4OEcj6+Xh+VOb81N7Y/ut48OF/Yv1JLT2m474DqQfAf4B2OeKbeDFyHwn7PfDidv0pydqO3m6M/fuL/dnXd2uyocDd/Fs6P3f9FV4QcblyrO+Y1aD24eOsUGWDkVAVHCCDU6QcEsohc4j13UTTBProQGI5486LidekBNb/f7+Kn/z4trb19XhdZezBevWGKaRNg0MUZETZ9IXWPRiSxPOiYOj4W9CPH2z6vV4wajzygu0XOVOBbqN+rnDenrdaXX0E4tS3u54mHkfnFchCU56zXJMhlVjiX6i4Ldb9OVngM+aeKGoUwT/kmtObn9Zm6bfAH5nb2/1K9M4vcqFdXudKMvfwnBpnN6yLvqfnXXlj4C3X2zOXnM2nz2dfxn6hPd8Y/41ai3bwDZw1ziOb84VPx8RN0Qp+8A+Lzr+ERkJTxuXKsYRAAAAAElFTkSuQmCC\"/>"
      ]
     },
     "execution_count": 1,
     "metadata": {},
     "output_type": "execute_result"
    },
    {
     "data": {
      "text/html": [
       "<table><tbody><tr><td>0</td></tr><tr><td>1</td></tr><tr><td>2</td></tr><tr><td>3</td></tr><tr><td>4</td></tr><tr><td>5</td></tr><tr><td>6</td></tr><tr><td>7</td></tr><tr><td>8</td></tr><tr><td>9</td></tr></tbody></table>"
      ]
     },
     "execution_count": 1,
     "metadata": {},
     "output_type": "execute_result"
    },
    {
     "data": {
      "text/html": [
       "<table><tbody><tr><td>0</td><td>1</td><td>2</td><td>3</td><td>4</td><td>5</td><td>6</td><td>7</td><td>8</td><td>9</td></tr><tr><td>1</td><td>2</td><td>3</td><td>4</td><td>5</td><td>6</td><td>7</td><td>8</td><td>9</td><td>10</td></tr><tr><td>2</td><td>3</td><td>4</td><td>5</td><td>6</td><td>7</td><td>8</td><td>9</td><td>10</td><td>11</td></tr><tr><td>3</td><td>4</td><td>5</td><td>6</td><td>7</td><td>8</td><td>9</td><td>10</td><td>11</td><td>12</td></tr><tr><td>4</td><td>5</td><td>6</td><td>7</td><td>8</td><td>9</td><td>10</td><td>11</td><td>12</td><td>13</td></tr><tr><td>5</td><td>6</td><td>7</td><td>8</td><td>9</td><td>10</td><td>11</td><td>12</td><td>13</td><td>14</td></tr><tr><td>6</td><td>7</td><td>8</td><td>9</td><td>10</td><td>11</td><td>12</td><td>13</td><td>14</td><td>15</td></tr><tr><td>7</td><td>8</td><td>9</td><td>10</td><td>11</td><td>12</td><td>13</td><td>14</td><td>15</td><td>16</td></tr><tr><td>8</td><td>9</td><td>10</td><td>11</td><td>12</td><td>13</td><td>14</td><td>15</td><td>16</td><td>17</td></tr><tr><td>9</td><td>10</td><td>11</td><td>12</td><td>13</td><td>14</td><td>15</td><td>16</td><td>17</td><td>18</td></tr></tbody></table>"
      ]
     },
     "execution_count": 1,
     "metadata": {},
     "output_type": "execute_result"
    }
   ],
   "source": [
    "!test"
   ]
  },
  {
   "cell_type": "code",
   "execution_count": null,
   "id": "de09074f",
   "metadata": {
    "slideshow": {
     "slide_type": "subslide"
    },
    "tags": [],
    "vscode": {
     "languageId": "plaintext"
    }
   },
   "outputs": [],
   "source": [
    "1+1"
   ]
  },
  {
   "cell_type": "code",
   "execution_count": null,
   "id": "a5e3c24e",
   "metadata": {
    "vscode": {
     "languageId": "python"
    }
   },
   "outputs": [],
   "source": []
  }
 ],
 "metadata": {
  "kernelspec": {
   "display_name": "Calculator",
   "language": "calculator",
   "name": "calculator"
  },
  "language_info": {
   "codemirror_mode": "rust",
   "file_extension": ".calc",
   "mimetype": "rust",
   "name": "Calculator",
   "nbconvert_exporter": "rust",
   "pygment_lexer": "rust",
   "version": "0.0.0"
  }
 },
 "nbformat": 4,
 "nbformat_minor": 5
}
