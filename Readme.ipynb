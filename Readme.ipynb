{
 "cells": [
  {
   "cell_type": "code",
   "execution_count": 1,
   "id": "57091d46",
   "metadata": {
    "collapsed": false,
    "jupyter": {
     "outputs_hidden": false
    },
    "vscode": {
     "languageId": "python"
    }
   },
   "outputs": [
    {
     "data": {
      "text/plain": [
       "true"
      ]
     },
     "execution_count": 1,
     "metadata": {},
     "output_type": "execute_result"
    },
    {
     "data": {
      "text/plain": [
       "0"
      ]
     },
     "execution_count": 1,
     "metadata": {},
     "output_type": "execute_result"
    },
    {
     "data": {
      "text/plain": [
       "-3.141592653589793"
      ]
     },
     "execution_count": 1,
     "metadata": {},
     "output_type": "execute_result"
    },
    {
     "data": {
      "text/plain": [
       "c"
      ]
     },
     "execution_count": 1,
     "metadata": {},
     "output_type": "execute_result"
    },
    {
     "data": {
      "text/plain": [
       "string"
      ]
     },
     "execution_count": 1,
     "metadata": {},
     "output_type": "execute_result"
    },
    {
     "data": {
      "application/json": {
       "dependencies": {
        "clap": "4.2.7",
        "clap_derive": "4.2.0",
        "jupyter": {
         "features": [
          "url",
          "image",
          "mathml-core",
          "svg"
         ],
         "path": "../jupyter",
         "version": "*"
        },
        "jupyter-derive": {
         "path": "../jupyter-derive",
         "version": "*"
        },
        "mathml-core": "0.1.6",
        "mathml-latex": "0.0.3",
        "num": "0.4.0",
        "svg": "0.13.1",
        "toml": "0.7.3",
        "tracing-subscriber": "0.3.17"
       },
       "package": {
        "authors": [
         "The Evcxr Authors"
        ],
        "description": "Jupyter Kernel Protocol in Rust",
        "edition": "2021",
        "exclude": [],
        "license": "MIT OR Apache-2.0",
        "name": "calculator",
        "publish": false,
        "readme": "README.md",
        "repository": "https://github.com/evcxr/evcxr",
        "version": "0.0.0"
       }
      }
     },
     "execution_count": 1,
     "metadata": {},
     "output_type": "execute_result"
    },
    {
     "data": {
      "text/html": [
       "<a href=\"https://github.com/oovm/jupyter-protocol\">https://github.com/oovm/jupyter-protocol</a>"
      ]
     },
     "execution_count": 1,
     "metadata": {},
     "output_type": "execute_result"
    },
    {
     "data": {
      "text/html": [
       "<math xmlns=\"http://www.w3.org/1998/Math/MathML\"><mrow><mi>a</mi><mo>+</mo><mstyle displaystyle=\"true\"><mfrac><mn>1</mn><mrow><mi>b</mi><mo>+</mo><mstyle displaystyle=\"true\"><mfrac><mn>1</mn><mrow><mi>c</mi><mo>+</mo><mstyle displaystyle=\"true\"><mfrac><mn>1</mn><mrow><mi>d</mi><mo>+</mo><mstyle displaystyle=\"true\"><mfrac><mn>1</mn><mi>e</mi></mfrac></mstyle></mrow></mfrac></mstyle></mrow></mfrac></mstyle></mrow></mfrac></mstyle></mrow></math>"
      ]
     },
     "execution_count": 1,
     "metadata": {},
     "output_type": "execute_result"
    },
    {
     "data": {
      "text/html": [
       "<sub>Elapsed time: 0.00 seconds.</sub>"
      ]
     },
     "execution_count": 1,
     "metadata": {},
     "output_type": "execute_result"
    }
   ],
   "source": [
    "!test"
   ]
  },
  {
   "cell_type": "code",
   "execution_count": null,
   "id": "de09074f",
   "metadata": {
    "slideshow": {
     "slide_type": "subslide"
    },
    "tags": [],
    "vscode": {
     "languageId": "plaintext"
    }
   },
   "outputs": [],
   "source": []
  }
 ],
 "metadata": {
  "kernelspec": {
   "display_name": "Calculator",
   "language": "calculator",
   "name": "calculator"
  },
  "language_info": {
   "codemirror_mode": "rust",
   "file_extension": ".calc",
   "mimetype": "rust",
   "name": "Calculator",
   "nbconvert_exporter": "rust",
   "pygment_lexer": "rust",
   "version": "0.0.0"
  }
 },
 "nbformat": 4,
 "nbformat_minor": 5
}
